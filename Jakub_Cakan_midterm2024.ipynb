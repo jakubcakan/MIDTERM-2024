{
 "cells": [
  {
   "cell_type": "code",
   "execution_count": 47,
   "metadata": {},
   "outputs": [],
   "source": [
    "import requests\n",
    "import pandas as pd\n",
    "from zipfile import ZipFile\n",
    "import numpy as np\n",
    "import matplotlib.pyplot as plt\n",
    "import datetime\n",
    "from pandas.core.reshape.merge import merge\n"
   ]
  },
  {
   "cell_type": "markdown",
   "metadata": {},
   "source": [
    "Import important packages"
   ]
  },
  {
   "cell_type": "code",
   "execution_count": 48,
   "metadata": {},
   "outputs": [
    {
     "ename": "NameError",
     "evalue": "name 'BytesIO' is not defined",
     "output_type": "error",
     "traceback": [
      "\u001b[1;31m---------------------------------------------------------------------------\u001b[0m",
      "\u001b[1;31mNameError\u001b[0m                                 Traceback (most recent call last)",
      "Cell \u001b[1;32mIn[48], line 8\u001b[0m\n\u001b[0;32m      5\u001b[0m     \u001b[38;5;28;01mwith\u001b[39;00m ZipFile(BytesIO(response\u001b[38;5;241m.\u001b[39mcontent)) \u001b[38;5;28;01mas\u001b[39;00m the_zip:\n\u001b[0;32m      6\u001b[0m         the_zip\u001b[38;5;241m.\u001b[39mextractall(path\u001b[38;5;241m=\u001b[39mextract_to)\n\u001b[1;32m----> 8\u001b[0m download_and_extract_zip(url)\n\u001b[0;32m     11\u001b[0m \u001b[38;5;28;01mfor\u001b[39;00m filename \u001b[38;5;129;01min\u001b[39;00m os\u001b[38;5;241m.\u001b[39mlistdir(\u001b[38;5;124m'\u001b[39m\u001b[38;5;124m.\u001b[39m\u001b[38;5;124m'\u001b[39m):\n\u001b[0;32m     12\u001b[0m     \u001b[38;5;28;01mif\u001b[39;00m filename\u001b[38;5;241m.\u001b[39mendswith(\u001b[38;5;124m'\u001b[39m\u001b[38;5;124m.csv\u001b[39m\u001b[38;5;124m'\u001b[39m):\n",
      "Cell \u001b[1;32mIn[48], line 5\u001b[0m, in \u001b[0;36mdownload_and_extract_zip\u001b[1;34m(url, extract_to)\u001b[0m\n\u001b[0;32m      3\u001b[0m \u001b[38;5;28;01mdef\u001b[39;00m \u001b[38;5;21mdownload_and_extract_zip\u001b[39m(url, extract_to\u001b[38;5;241m=\u001b[39m\u001b[38;5;124m'\u001b[39m\u001b[38;5;124m.\u001b[39m\u001b[38;5;124m'\u001b[39m):\n\u001b[0;32m      4\u001b[0m     response \u001b[38;5;241m=\u001b[39m requests\u001b[38;5;241m.\u001b[39mget(url)\n\u001b[1;32m----> 5\u001b[0m     \u001b[38;5;28;01mwith\u001b[39;00m ZipFile(BytesIO(response\u001b[38;5;241m.\u001b[39mcontent)) \u001b[38;5;28;01mas\u001b[39;00m the_zip:\n\u001b[0;32m      6\u001b[0m         the_zip\u001b[38;5;241m.\u001b[39mextractall(path\u001b[38;5;241m=\u001b[39mextract_to)\n",
      "\u001b[1;31mNameError\u001b[0m: name 'BytesIO' is not defined"
     ]
    }
   ],
   "source": [
    "url = f'https://ies-python-midterm.s3.eu-central-1.amazonaws.com/studentsSets/{51019223}.zip'\n",
    "\n",
    "def download_and_extract_zip(url, extract_to='.'):\n",
    "    response = requests.get(url)\n",
    "    with ZipFile(BytesIO(response.content)) as the_zip:\n",
    "        the_zip.extractall(path=extract_to)\n",
    "\n",
    "download_and_extract_zip(url)\n",
    "\n",
    "\n",
    "for filename in os.listdir('.'):\n",
    "    if filename.endswith('.csv'):\n",
    "        df = pd.read_csv(filename)\n",
    "        df['Date'] = pd.to_datetime(df['Date'])\n",
    "        adjusted_close = df['Adjusted Close']\n",
    "        break\n",
    "print(adjusted_close.head())\n",
    "\n",
    "\n",
    "\n",
    "    "
   ]
  },
  {
   "cell_type": "code",
   "execution_count": null,
   "metadata": {},
   "outputs": [],
   "source": [
    "    with z.open((\"data/EOG.csv\")) as g:\n",
    "        EOG = pd.read_csv(g)\n",
    "    with z.open((\"data/HCA.csv\")) as h:\n",
    "        HCA = pd.read_csv(h)\n",
    "    with z.open((\"data/STZ.csv\")) as i:\n",
    "        STZ = pd.read_csv(i)\n",
    "    with z.open((\"data/UTR.csv\")) as j:\n",
    "        UTR = pd.read_csv(j)"
   ]
  },
  {
   "cell_type": "markdown",
   "metadata": {},
   "source": []
  },
  {
   "cell_type": "code",
   "execution_count": 5,
   "metadata": {},
   "outputs": [
    {
     "data": {
      "text/html": [
       "<style type=\"text/css\">\n",
       "</style>\n",
       "<table id=\"T_5525f\">\n",
       "  <thead>\n",
       "    <tr>\n",
       "      <th class=\"blank level0\" >&nbsp;</th>\n",
       "      <th id=\"T_5525f_level0_col0\" class=\"col_heading level0 col0\" >Symbol</th>\n",
       "      <th id=\"T_5525f_level0_col1\" class=\"col_heading level0 col1\" >Security</th>\n",
       "      <th id=\"T_5525f_level0_col2\" class=\"col_heading level0 col2\" >GICS_Sector</th>\n",
       "      <th id=\"T_5525f_level0_col3\" class=\"col_heading level0 col3\" >hq</th>\n",
       "      <th id=\"T_5525f_level0_col4\" class=\"col_heading level0 col4\" >included</th>\n",
       "      <th id=\"T_5525f_level0_col5\" class=\"col_heading level0 col5\" >Founded</th>\n",
       "    </tr>\n",
       "  </thead>\n",
       "  <tbody>\n",
       "    <tr>\n",
       "      <th id=\"T_5525f_level0_row0\" class=\"row_heading level0 row0\" >108</th>\n",
       "      <td id=\"T_5525f_row0_col0\" class=\"data row0 col0\" >CHD</td>\n",
       "      <td id=\"T_5525f_row0_col1\" class=\"data row0 col1\" >Church & Dwight</td>\n",
       "      <td id=\"T_5525f_row0_col2\" class=\"data row0 col2\" >Consumer Staples</td>\n",
       "      <td id=\"T_5525f_row0_col3\" class=\"data row0 col3\" >Ewing, New Jersey</td>\n",
       "      <td id=\"T_5525f_row0_col4\" class=\"data row0 col4\" >29.12.2015</td>\n",
       "      <td id=\"T_5525f_row0_col5\" class=\"data row0 col5\" >1847</td>\n",
       "    </tr>\n",
       "    <tr>\n",
       "      <th id=\"T_5525f_level0_row1\" class=\"row_heading level0 row1\" >20</th>\n",
       "      <td id=\"T_5525f_row1_col0\" class=\"data row1 col0\" >ALLE</td>\n",
       "      <td id=\"T_5525f_row1_col1\" class=\"data row1 col1\" >Allegion</td>\n",
       "      <td id=\"T_5525f_row1_col2\" class=\"data row1 col2\" >Industrials</td>\n",
       "      <td id=\"T_5525f_row1_col3\" class=\"data row1 col3\" >New York City, New York</td>\n",
       "      <td id=\"T_5525f_row1_col4\" class=\"data row1 col4\" >02.12.2013</td>\n",
       "      <td id=\"T_5525f_row1_col5\" class=\"data row1 col5\" >1908</td>\n",
       "    </tr>\n",
       "    <tr>\n",
       "      <th id=\"T_5525f_level0_row2\" class=\"row_heading level0 row2\" >331</th>\n",
       "      <td id=\"T_5525f_row2_col0\" class=\"data row2 col0\" >NDAQ</td>\n",
       "      <td id=\"T_5525f_row2_col1\" class=\"data row2 col1\" >Nasdaq, Inc.</td>\n",
       "      <td id=\"T_5525f_row2_col2\" class=\"data row2 col2\" >Financials</td>\n",
       "      <td id=\"T_5525f_row2_col3\" class=\"data row2 col3\" >New York City, New York</td>\n",
       "      <td id=\"T_5525f_row2_col4\" class=\"data row2 col4\" >22.10.2008</td>\n",
       "      <td id=\"T_5525f_row2_col5\" class=\"data row2 col5\" >1971</td>\n",
       "    </tr>\n",
       "    <tr>\n",
       "      <th id=\"T_5525f_level0_row3\" class=\"row_heading level0 row3\" >423</th>\n",
       "      <td id=\"T_5525f_row3_col0\" class=\"data row3 col0\" >SO</td>\n",
       "      <td id=\"T_5525f_row3_col1\" class=\"data row3 col1\" >Southern Company</td>\n",
       "      <td id=\"T_5525f_row3_col2\" class=\"data row3 col2\" >Utilities</td>\n",
       "      <td id=\"T_5525f_row3_col3\" class=\"data row3 col3\" >Atlanta, Georgia</td>\n",
       "      <td id=\"T_5525f_row3_col4\" class=\"data row3 col4\" >04.03.1957</td>\n",
       "      <td id=\"T_5525f_row3_col5\" class=\"data row3 col5\" >1945</td>\n",
       "    </tr>\n",
       "    <tr>\n",
       "      <th id=\"T_5525f_level0_row4\" class=\"row_heading level0 row4\" >47</th>\n",
       "      <td id=\"T_5525f_row4_col0\" class=\"data row4 col0\" >APTV</td>\n",
       "      <td id=\"T_5525f_row4_col1\" class=\"data row4 col1\" >Aptiv</td>\n",
       "      <td id=\"T_5525f_row4_col2\" class=\"data row4 col2\" >Consumer Discretionary</td>\n",
       "      <td id=\"T_5525f_row4_col3\" class=\"data row4 col3\" >Dublin, Ireland</td>\n",
       "      <td id=\"T_5525f_row4_col4\" class=\"data row4 col4\" >24.12.2012</td>\n",
       "      <td id=\"T_5525f_row4_col5\" class=\"data row4 col5\" >1994</td>\n",
       "    </tr>\n",
       "  </tbody>\n",
       "</table>\n"
      ],
      "text/plain": [
       "<pandas.io.formats.style.Styler at 0x2085c1a5f50>"
      ]
     },
     "execution_count": 5,
     "metadata": {},
     "output_type": "execute_result"
    }
   ],
   "source": [
    "industry = pd.read_csv(\"https://ies-python-midterm.s3.eu-central-1.amazonaws.com/companies/companies_no_subindustry.csv\")\n",
    "industry.sample(5).style"
   ]
  },
  {
   "cell_type": "markdown",
   "metadata": {},
   "source": [
    "Question 2.1:"
   ]
  },
  {
   "cell_type": "code",
   "execution_count": 8,
   "metadata": {},
   "outputs": [
    {
     "data": {
      "text/plain": [
       "Symbol      Information Technology\n",
       "Security    Information Technology\n",
       "hq          Information Technology\n",
       "included    Information Technology\n",
       "Founded     Information Technology\n",
       "dtype: object"
      ]
     },
     "execution_count": 8,
     "metadata": {},
     "output_type": "execute_result"
    }
   ],
   "source": [
    "industry.groupby(\"GICS_Sector\").count().idxmax()\n",
    "%information technology"
   ]
  },
  {
   "cell_type": "markdown",
   "metadata": {},
   "source": [
    "Question 2.2:"
   ]
  },
  {
   "cell_type": "code",
   "execution_count": 12,
   "metadata": {},
   "outputs": [
    {
     "name": "stdout",
     "output_type": "stream",
     "text": [
      "{'MMM': 'Industrials', 'AOS': 'Industrials', 'ABT': 'Health Care', 'ABBV': 'Health Care', 'ABMD': 'Health Care', 'ACN': 'Information Technology', 'ATVI': 'Communication Services', 'ADM': 'Consumer Staples', 'ADBE': 'Information Technology', 'ADP': 'Information Technology', 'AAP': 'Consumer Discretionary', 'AES': 'Utilities', 'AFL': 'Financials', 'A': 'Health Care', 'APD': 'Materials', 'AKAM': 'Information Technology', 'ALK': 'Industrials', 'ALB': 'Materials', 'ARE': 'Real Estate', 'ALGN': 'Health Care', 'ALLE': 'Industrials', 'LNT': 'Utilities', 'ALL': 'Financials', 'GOOGL': 'Communication Services', 'GOOG': 'Communication Services', 'MO': 'Consumer Staples', 'AMZN': 'Consumer Discretionary', 'AMCR': 'Materials', 'AMD': 'Information Technology', 'AEE': 'Utilities', 'AAL': 'Industrials', 'AEP': 'Utilities', 'AXP': 'Financials', 'AIG': 'Financials', 'AMT': 'Real Estate', 'AWK': 'Utilities', 'AMP': 'Financials', 'ABC': 'Health Care', 'AME': 'Industrials', 'AMGN': 'Health Care', 'APH': 'Information Technology', 'ADI': 'Information Technology', 'ANSS': 'Information Technology', 'AON': 'Financials', 'APA': 'Energy', 'AAPL': 'Information Technology', 'AMAT': 'Information Technology', 'APTV': 'Consumer Discretionary', 'ACGL': 'Financials', 'ANET': 'Information Technology', 'AJG': 'Financials', 'AIZ': 'Financials', 'T': 'Communication Services', 'ATO': 'Utilities', 'ADSK': 'Information Technology', 'AZO': 'Consumer Discretionary', 'AVB': 'Real Estate', 'AVY': 'Materials', 'BKR': 'Energy', 'BALL': 'Materials', 'BAC': 'Financials', 'BBWI': 'Consumer Discretionary', 'BAX': 'Health Care', 'BDX': 'Health Care', 'WRB': 'Financials', 'BRK.B': 'Financials', 'BBY': 'Consumer Discretionary', 'BIO': 'Health Care', 'TECH': 'Health Care', 'BIIB': 'Health Care', 'BLK': 'Financials', 'BK': 'Financials', 'BA': 'Industrials', 'BKNG': 'Consumer Discretionary', 'BWA': 'Consumer Discretionary', 'BXP': 'Real Estate', 'BSX': 'Health Care', 'BMY': 'Health Care', 'AVGO': 'Information Technology', 'BR': 'Information Technology', 'BRO': 'Financials', 'BF.B': 'Consumer Staples', 'CHRW': 'Industrials', 'CDNS': 'Information Technology', 'CZR': 'Consumer Discretionary', 'CPT': 'Real Estate', 'CPB': 'Consumer Staples', 'COF': 'Financials', 'CAH': 'Health Care', 'KMX': 'Consumer Discretionary', 'CCL': 'Consumer Discretionary', 'CARR': 'Industrials', 'CTLT': 'Health Care', 'CAT': 'Industrials', 'CBOE': 'Financials', 'CBRE': 'Real Estate', 'CDW': 'Information Technology', 'CE': 'Materials', 'CNC': 'Health Care', 'CNP': 'Utilities', 'CDAY': 'Information Technology', 'CF': 'Materials', 'CRL': 'Health Care', 'SCHW': 'Financials', 'CHTR': 'Communication Services', 'CVX': 'Energy', 'CMG': 'Consumer Discretionary', 'CB': 'Financials', 'CHD': 'Consumer Staples', 'CI': 'Health Care', 'CINF': 'Financials', 'CTAS': 'Industrials', 'CSCO': 'Information Technology', 'C': 'Financials', 'CFG': 'Financials', 'CLX': 'Consumer Staples', 'CME': 'Financials', 'CMS': 'Utilities', 'KO': 'Consumer Staples', 'CTSH': 'Information Technology', 'CL': 'Consumer Staples', 'CMCSA': 'Communication Services', 'CMA': 'Financials', 'CAG': 'Consumer Staples', 'COP': 'Energy', 'ED': 'Utilities', 'STZ': 'Consumer Staples', 'CEG': 'Utilities', 'COO': 'Health Care', 'CPRT': 'Industrials', 'GLW': 'Information Technology', 'CTVA': 'Materials', 'CSGP': 'Industrials', 'COST': 'Consumer Staples', 'CTRA': 'Energy', 'CCI': 'Real Estate', 'CSX': 'Industrials', 'CMI': 'Industrials', 'CVS': 'Health Care', 'DHI': 'Consumer Discretionary', 'DHR': 'Health Care', 'DRI': 'Consumer Discretionary', 'DVA': 'Health Care', 'DE': 'Industrials', 'DAL': 'Industrials', 'XRAY': 'Health Care', 'DVN': 'Energy', 'DXCM': 'Health Care', 'FANG': 'Energy', 'DLR': 'Real Estate', 'DFS': 'Financials', 'DISH': 'Communication Services', 'DIS': 'Communication Services', 'DG': 'Consumer Discretionary', 'DLTR': 'Consumer Discretionary', 'D': 'Utilities', 'DPZ': 'Consumer Discretionary', 'DOV': 'Industrials', 'DOW': 'Materials', 'DTE': 'Utilities', 'DUK': 'Utilities', 'DD': 'Materials', 'DXC': 'Information Technology', 'EMN': 'Materials', 'ETN': 'Industrials', 'EBAY': 'Consumer Discretionary', 'ECL': 'Materials', 'EIX': 'Utilities', 'EW': 'Health Care', 'EA': 'Communication Services', 'ELV': 'Health Care', 'LLY': 'Health Care', 'EMR': 'Industrials', 'ENPH': 'Information Technology', 'ETR': 'Utilities', 'EOG': 'Energy', 'EPAM': 'Information Technology', 'EQT': 'Energy', 'EFX': 'Industrials', 'EQIX': 'Real Estate', 'EQR': 'Real Estate', 'ESS': 'Real Estate', 'EL': 'Consumer Staples', 'ETSY': 'Consumer Discretionary', 'RE': 'Financials', 'EVRG': 'Utilities', 'ES': 'Utilities', 'EXC': 'Utilities', 'EXPE': 'Consumer Discretionary', 'EXPD': 'Industrials', 'EXR': 'Real Estate', 'XOM': 'Energy', 'FFIV': 'Information Technology', 'FDS': 'Financials', 'FAST': 'Industrials', 'FRT': 'Real Estate', 'FDX': 'Industrials', 'FITB': 'Financials', 'FRC': 'Financials', 'FE': 'Utilities', 'FIS': 'Information Technology', 'FISV': 'Information Technology', 'FLT': 'Information Technology', 'FMC': 'Materials', 'F': 'Consumer Discretionary', 'FTNT': 'Information Technology', 'FTV': 'Industrials', 'FBHS': 'Industrials', 'FOXA': 'Communication Services', 'FOX': 'Communication Services', 'BEN': 'Financials', 'FCX': 'Materials', 'GRMN': 'Consumer Discretionary', 'IT': 'Information Technology', 'GEN': 'Information Technology', 'GNRC': 'Industrials', 'GD': 'Industrials', 'GE': 'Industrials', 'GIS': 'Consumer Staples', 'GM': 'Consumer Discretionary', 'GPC': 'Consumer Discretionary', 'GILD': 'Health Care', 'GL': 'Financials', 'GPN': 'Information Technology', 'GS': 'Financials', 'HAL': 'Energy', 'HIG': 'Financials', 'HAS': 'Consumer Discretionary', 'HCA': 'Health Care', 'PEAK': 'Real Estate', 'HSIC': 'Health Care', 'HSY': 'Consumer Staples', 'HES': 'Energy', 'HPE': 'Information Technology', 'HLT': 'Consumer Discretionary', 'HOLX': 'Health Care', 'HD': 'Consumer Discretionary', 'HON': 'Industrials', 'HRL': 'Consumer Staples', 'HST': 'Real Estate', 'HWM': 'Industrials', 'HPQ': 'Information Technology', 'HUM': 'Health Care', 'HBAN': 'Financials', 'HII': 'Industrials', 'IBM': 'Information Technology', 'IEX': 'Industrials', 'IDXX': 'Health Care', 'ITW': 'Industrials', 'ILMN': 'Health Care', 'INCY': 'Health Care', 'IR': 'Industrials', 'INTC': 'Information Technology', 'ICE': 'Financials', 'IP': 'Materials', 'IPG': 'Communication Services', 'IFF': 'Materials', 'INTU': 'Information Technology', 'ISRG': 'Health Care', 'IVZ': 'Financials', 'INVH': 'Real Estate', 'IQV': 'Health Care', 'IRM': 'Real Estate', 'JBHT': 'Industrials', 'JKHY': 'Information Technology', 'J': 'Industrials', 'JNJ': 'Health Care', 'JCI': 'Industrials', 'JPM': 'Financials', 'JNPR': 'Information Technology', 'K': 'Consumer Staples', 'KDP': 'Consumer Staples', 'KEY': 'Financials', 'KEYS': 'Information Technology', 'KMB': 'Consumer Staples', 'KIM': 'Real Estate', 'KMI': 'Energy', 'KLAC': 'Information Technology', 'KHC': 'Consumer Staples', 'KR': 'Consumer Staples', 'LHX': 'Industrials', 'LH': 'Health Care', 'LRCX': 'Information Technology', 'LW': 'Consumer Staples', 'LVS': 'Consumer Discretionary', 'LDOS': 'Industrials', 'LEN': 'Consumer Discretionary', 'LNC': 'Financials', 'LIN': 'Materials', 'LYV': 'Communication Services', 'LKQ': 'Consumer Discretionary', 'LMT': 'Industrials', 'L': 'Financials', 'LOW': 'Consumer Discretionary', 'LUMN': 'Communication Services', 'LYB': 'Materials', 'MTB': 'Financials', 'MRO': 'Energy', 'MPC': 'Energy', 'MKTX': 'Financials', 'MAR': 'Consumer Discretionary', 'MMC': 'Financials', 'MLM': 'Materials', 'MAS': 'Industrials', 'MA': 'Information Technology', 'MTCH': 'Communication Services', 'MKC': 'Consumer Staples', 'MCD': 'Consumer Discretionary', 'MCK': 'Health Care', 'MDT': 'Health Care', 'MRK': 'Health Care', 'META': 'Communication Services', 'MET': 'Financials', 'MTD': 'Health Care', 'MGM': 'Consumer Discretionary', 'MCHP': 'Information Technology', 'MU': 'Information Technology', 'MSFT': 'Information Technology', 'MAA': 'Real Estate', 'MRNA': 'Health Care', 'MHK': 'Consumer Discretionary', 'MOH': 'Health Care', 'TAP': 'Consumer Staples', 'MDLZ': 'Consumer Staples', 'MPWR': 'Information Technology', 'MNST': 'Consumer Staples', 'MCO': 'Financials', 'MS': 'Financials', 'MOS': 'Materials', 'MSI': 'Information Technology', 'MSCI': 'Financials', 'NDAQ': 'Financials', 'NTAP': 'Information Technology', 'NFLX': 'Communication Services', 'NWL': 'Consumer Discretionary', 'NEM': 'Materials', 'NWSA': 'Communication Services', 'NWS': 'Communication Services', 'NEE': 'Utilities', 'NKE': 'Consumer Discretionary', 'NI': 'Utilities', 'NDSN': 'Industrials', 'NSC': 'Industrials', 'NTRS': 'Financials', 'NOC': 'Industrials', 'NCLH': 'Consumer Discretionary', 'NRG': 'Utilities', 'NUE': 'Materials', 'NVDA': 'Information Technology', 'NVR': 'Consumer Discretionary', 'NXPI': 'Information Technology', 'ORLY': 'Consumer Discretionary', 'OXY': 'Energy', 'ODFL': 'Industrials', 'OMC': 'Communication Services', 'ON': 'Information Technology', 'OKE': 'Energy', 'ORCL': 'Information Technology', 'OGN': 'Health Care', 'OTIS': 'Industrials', 'PCAR': 'Industrials', 'PKG': 'Materials', 'PARA': 'Communication Services', 'PH': 'Industrials', 'PAYX': 'Information Technology', 'PAYC': 'Information Technology', 'PYPL': 'Information Technology', 'PNR': 'Industrials', 'PEP': 'Consumer Staples', 'PKI': 'Health Care', 'PFE': 'Health Care', 'PCG': 'Utilities', 'PM': 'Consumer Staples', 'PSX': 'Energy', 'PNW': 'Utilities', 'PXD': 'Energy', 'PNC': 'Financials', 'POOL': 'Consumer Discretionary', 'PPG': 'Materials', 'PPL': 'Utilities', 'PFG': 'Financials', 'PG': 'Consumer Staples', 'PGR': 'Financials', 'PLD': 'Real Estate', 'PRU': 'Financials', 'PEG': 'Utilities', 'PTC': 'Information Technology', 'PSA': 'Real Estate', 'PHM': 'Consumer Discretionary', 'QRVO': 'Information Technology', 'PWR': 'Industrials', 'QCOM': 'Information Technology', 'DGX': 'Health Care', 'RL': 'Consumer Discretionary', 'RJF': 'Financials', 'RTX': 'Industrials', 'O': 'Real Estate', 'REG': 'Real Estate', 'REGN': 'Health Care', 'RF': 'Financials', 'RSG': 'Industrials', 'RMD': 'Health Care', 'RHI': 'Industrials', 'ROK': 'Industrials', 'ROL': 'Industrials', 'ROP': 'Information Technology', 'ROST': 'Consumer Discretionary', 'RCL': 'Consumer Discretionary', 'SPGI': 'Financials', 'CRM': 'Information Technology', 'SBAC': 'Real Estate', 'SLB': 'Energy', 'STX': 'Information Technology', 'SEE': 'Materials', 'SRE': 'Utilities', 'NOW': 'Information Technology', 'SHW': 'Materials', 'SBNY': 'Financials', 'SPG': 'Real Estate', 'SWKS': 'Information Technology', 'SJM': 'Consumer Staples', 'SNA': 'Industrials', 'SEDG': 'Information Technology', 'SO': 'Utilities', 'LUV': 'Industrials', 'SWK': 'Industrials', 'SBUX': 'Consumer Discretionary', 'STT': 'Financials', 'STE': 'Health Care', 'SYK': 'Health Care', 'SIVB': 'Financials', 'SYF': 'Financials', 'SNPS': 'Information Technology', 'SYY': 'Consumer Staples', 'TMUS': 'Communication Services', 'TROW': 'Financials', 'TTWO': 'Communication Services', 'TPR': 'Consumer Discretionary', 'TRGP': 'Energy', 'TGT': 'Consumer Discretionary', 'TEL': 'Information Technology', 'TDY': 'Information Technology', 'TFX': 'Health Care', 'TER': 'Information Technology', 'TSLA': 'Consumer Discretionary', 'TXN': 'Information Technology', 'TXT': 'Industrials', 'TMO': 'Health Care', 'TJX': 'Consumer Discretionary', 'TSCO': 'Consumer Discretionary', 'TT': 'Industrials', 'TDG': 'Industrials', 'TRV': 'Financials', 'TRMB': 'Information Technology', 'TFC': 'Financials', 'TYL': 'Information Technology', 'TSN': 'Consumer Staples', 'USB': 'Financials', 'UDR': 'Real Estate', 'ULTA': 'Consumer Discretionary', 'UNP': 'Industrials', 'UAL': 'Industrials', 'UPS': 'Industrials', 'URI': 'Industrials', 'UNH': 'Health Care', 'UHS': 'Health Care', 'VLO': 'Energy', 'VTR': 'Real Estate', 'VRSN': 'Information Technology', 'VRSK': 'Industrials', 'VZ': 'Communication Services', 'VRTX': 'Health Care', 'VFC': 'Consumer Discretionary', 'VTRS': 'Health Care', 'VICI': 'Real Estate', 'V': 'Information Technology', 'VNO': 'Real Estate', 'VMC': 'Materials', 'WAB': 'Industrials', 'WBA': 'Consumer Staples', 'WMT': 'Consumer Staples', 'WBD': 'Communication Services', 'WM': 'Industrials', 'WAT': 'Health Care', 'WEC': 'Utilities', 'WFC': 'Financials', 'WELL': 'Real Estate', 'WST': 'Health Care', 'WDC': 'Information Technology', 'WRK': 'Materials', 'WY': 'Real Estate', 'WHR': 'Consumer Discretionary', 'WMB': 'Energy', 'WTW': 'Financials', 'GWW': 'Industrials', 'WYNN': 'Consumer Discretionary', 'XEL': 'Utilities', 'XYL': 'Industrials', 'YUM': 'Consumer Discretionary', 'ZBRA': 'Information Technology', 'ZBH': 'Health Care', 'ZION': 'Financials', 'ZTS': 'Health Care'}\n"
     ]
    }
   ],
   "source": [
    "sector = industry.set_index(\"Symbol\")[\"GICS_Sector\"].to_dict()\n",
    "print(sector)"
   ]
  },
  {
   "cell_type": "markdown",
   "metadata": {},
   "source": [
    "Question 3:"
   ]
  },
  {
   "cell_type": "code",
   "execution_count": 22,
   "metadata": {},
   "outputs": [
    {
     "ename": "KeyError",
     "evalue": "\"['City' 'State'] not in index\"",
     "output_type": "error",
     "traceback": [
      "\u001b[1;31m---------------------------------------------------------------------------\u001b[0m",
      "\u001b[1;31mTypeError\u001b[0m                                 Traceback (most recent call last)",
      "File \u001b[1;32mc:\\ProgramData\\anaconda3\\Lib\\site-packages\\pandas\\core\\indexes\\base.py:3653\u001b[0m, in \u001b[0;36mIndex.get_loc\u001b[1;34m(self, key)\u001b[0m\n\u001b[0;32m   3652\u001b[0m \u001b[38;5;28;01mtry\u001b[39;00m:\n\u001b[1;32m-> 3653\u001b[0m     \u001b[38;5;28;01mreturn\u001b[39;00m \u001b[38;5;28mself\u001b[39m\u001b[38;5;241m.\u001b[39m_engine\u001b[38;5;241m.\u001b[39mget_loc(casted_key)\n\u001b[0;32m   3654\u001b[0m \u001b[38;5;28;01mexcept\u001b[39;00m \u001b[38;5;167;01mKeyError\u001b[39;00m \u001b[38;5;28;01mas\u001b[39;00m err:\n",
      "File \u001b[1;32mc:\\ProgramData\\anaconda3\\Lib\\site-packages\\pandas\\_libs\\index.pyx:147\u001b[0m, in \u001b[0;36mpandas._libs.index.IndexEngine.get_loc\u001b[1;34m()\u001b[0m\n",
      "File \u001b[1;32mc:\\ProgramData\\anaconda3\\Lib\\site-packages\\pandas\\_libs\\index.pyx:153\u001b[0m, in \u001b[0;36mpandas._libs.index.IndexEngine.get_loc\u001b[1;34m()\u001b[0m\n",
      "\u001b[1;31mTypeError\u001b[0m: '['City', 'State']' is an invalid key",
      "\nDuring handling of the above exception, another exception occurred:\n",
      "\u001b[1;31mInvalidIndexError\u001b[0m                         Traceback (most recent call last)",
      "File \u001b[1;32mc:\\ProgramData\\anaconda3\\Lib\\site-packages\\pandas\\core\\series.py:1159\u001b[0m, in \u001b[0;36mSeries.__setitem__\u001b[1;34m(self, key, value)\u001b[0m\n\u001b[0;32m   1158\u001b[0m \u001b[38;5;28;01mtry\u001b[39;00m:\n\u001b[1;32m-> 1159\u001b[0m     \u001b[38;5;28mself\u001b[39m\u001b[38;5;241m.\u001b[39m_set_with_engine(key, value)\n\u001b[0;32m   1160\u001b[0m \u001b[38;5;28;01mexcept\u001b[39;00m \u001b[38;5;167;01mKeyError\u001b[39;00m:\n\u001b[0;32m   1161\u001b[0m     \u001b[38;5;66;03m# We have a scalar (or for MultiIndex or object-dtype, scalar-like)\u001b[39;00m\n\u001b[0;32m   1162\u001b[0m     \u001b[38;5;66;03m#  key that is not present in self.index.\u001b[39;00m\n",
      "File \u001b[1;32mc:\\ProgramData\\anaconda3\\Lib\\site-packages\\pandas\\core\\series.py:1222\u001b[0m, in \u001b[0;36mSeries._set_with_engine\u001b[1;34m(self, key, value)\u001b[0m\n\u001b[0;32m   1221\u001b[0m \u001b[38;5;28;01mdef\u001b[39;00m \u001b[38;5;21m_set_with_engine\u001b[39m(\u001b[38;5;28mself\u001b[39m, key, value) \u001b[38;5;241m-\u001b[39m\u001b[38;5;241m>\u001b[39m \u001b[38;5;28;01mNone\u001b[39;00m:\n\u001b[1;32m-> 1222\u001b[0m     loc \u001b[38;5;241m=\u001b[39m \u001b[38;5;28mself\u001b[39m\u001b[38;5;241m.\u001b[39mindex\u001b[38;5;241m.\u001b[39mget_loc(key)\n\u001b[0;32m   1224\u001b[0m     \u001b[38;5;66;03m# this is equivalent to self._values[key] = value\u001b[39;00m\n",
      "File \u001b[1;32mc:\\ProgramData\\anaconda3\\Lib\\site-packages\\pandas\\core\\indexes\\base.py:3660\u001b[0m, in \u001b[0;36mIndex.get_loc\u001b[1;34m(self, key)\u001b[0m\n\u001b[0;32m   3656\u001b[0m \u001b[38;5;28;01mexcept\u001b[39;00m \u001b[38;5;167;01mTypeError\u001b[39;00m:\n\u001b[0;32m   3657\u001b[0m     \u001b[38;5;66;03m# If we have a listlike key, _check_indexing_error will raise\u001b[39;00m\n\u001b[0;32m   3658\u001b[0m     \u001b[38;5;66;03m#  InvalidIndexError. Otherwise we fall through and re-raise\u001b[39;00m\n\u001b[0;32m   3659\u001b[0m     \u001b[38;5;66;03m#  the TypeError.\u001b[39;00m\n\u001b[1;32m-> 3660\u001b[0m     \u001b[38;5;28mself\u001b[39m\u001b[38;5;241m.\u001b[39m_check_indexing_error(key)\n\u001b[0;32m   3661\u001b[0m     \u001b[38;5;28;01mraise\u001b[39;00m\n",
      "File \u001b[1;32mc:\\ProgramData\\anaconda3\\Lib\\site-packages\\pandas\\core\\indexes\\base.py:5737\u001b[0m, in \u001b[0;36mIndex._check_indexing_error\u001b[1;34m(self, key)\u001b[0m\n\u001b[0;32m   5734\u001b[0m \u001b[38;5;28;01mif\u001b[39;00m \u001b[38;5;129;01mnot\u001b[39;00m is_scalar(key):\n\u001b[0;32m   5735\u001b[0m     \u001b[38;5;66;03m# if key is not a scalar, directly raise an error (the code below\u001b[39;00m\n\u001b[0;32m   5736\u001b[0m     \u001b[38;5;66;03m# would convert to numpy arrays and raise later any way) - GH29926\u001b[39;00m\n\u001b[1;32m-> 5737\u001b[0m     \u001b[38;5;28;01mraise\u001b[39;00m InvalidIndexError(key)\n",
      "\u001b[1;31mInvalidIndexError\u001b[0m: ['City', 'State']",
      "\nDuring handling of the above exception, another exception occurred:\n",
      "\u001b[1;31mKeyError\u001b[0m                                  Traceback (most recent call last)",
      "Cell \u001b[1;32mIn[22], line 2\u001b[0m\n\u001b[0;32m      1\u001b[0m hq \u001b[38;5;241m=\u001b[39m industry[\u001b[38;5;124m\"\u001b[39m\u001b[38;5;124mhq\u001b[39m\u001b[38;5;124m\"\u001b[39m]\u001b[38;5;241m.\u001b[39mdropna()\n\u001b[1;32m----> 2\u001b[0m hq[[\u001b[38;5;124m'\u001b[39m\u001b[38;5;124mCity\u001b[39m\u001b[38;5;124m'\u001b[39m, \u001b[38;5;124m'\u001b[39m\u001b[38;5;124mState\u001b[39m\u001b[38;5;124m'\u001b[39m]] \u001b[38;5;241m=\u001b[39m hq\u001b[38;5;241m.\u001b[39mstr\u001b[38;5;241m.\u001b[39msplit(\u001b[38;5;124m'\u001b[39m\u001b[38;5;124m,\u001b[39m\u001b[38;5;124m'\u001b[39m, expand\u001b[38;5;241m=\u001b[39m\u001b[38;5;28;01mTrue\u001b[39;00m)\n\u001b[0;32m      3\u001b[0m \u001b[38;5;28mprint\u001b[39m(hq)\n",
      "File \u001b[1;32mc:\\ProgramData\\anaconda3\\Lib\\site-packages\\pandas\\core\\series.py:1216\u001b[0m, in \u001b[0;36mSeries.__setitem__\u001b[1;34m(self, key, value)\u001b[0m\n\u001b[0;32m   1213\u001b[0m         \u001b[38;5;28;01mreturn\u001b[39;00m\n\u001b[0;32m   1215\u001b[0m     \u001b[38;5;28;01melse\u001b[39;00m:\n\u001b[1;32m-> 1216\u001b[0m         \u001b[38;5;28mself\u001b[39m\u001b[38;5;241m.\u001b[39m_set_with(key, value)\n\u001b[0;32m   1218\u001b[0m \u001b[38;5;28;01mif\u001b[39;00m cacher_needs_updating:\n\u001b[0;32m   1219\u001b[0m     \u001b[38;5;28mself\u001b[39m\u001b[38;5;241m.\u001b[39m_maybe_update_cacher(inplace\u001b[38;5;241m=\u001b[39m\u001b[38;5;28;01mTrue\u001b[39;00m)\n",
      "File \u001b[1;32mc:\\ProgramData\\anaconda3\\Lib\\site-packages\\pandas\\core\\series.py:1238\u001b[0m, in \u001b[0;36mSeries._set_with\u001b[1;34m(self, key, value)\u001b[0m\n\u001b[0;32m   1234\u001b[0m     key \u001b[38;5;241m=\u001b[39m \u001b[38;5;28mlist\u001b[39m(key)\n\u001b[0;32m   1236\u001b[0m \u001b[38;5;28;01mif\u001b[39;00m \u001b[38;5;129;01mnot\u001b[39;00m \u001b[38;5;28mself\u001b[39m\u001b[38;5;241m.\u001b[39mindex\u001b[38;5;241m.\u001b[39m_should_fallback_to_positional:\n\u001b[0;32m   1237\u001b[0m     \u001b[38;5;66;03m# Regardless of the key type, we're treating it as labels\u001b[39;00m\n\u001b[1;32m-> 1238\u001b[0m     \u001b[38;5;28mself\u001b[39m\u001b[38;5;241m.\u001b[39m_set_labels(key, value)\n\u001b[0;32m   1240\u001b[0m \u001b[38;5;28;01melse\u001b[39;00m:\n\u001b[0;32m   1241\u001b[0m     \u001b[38;5;66;03m# Note: key_type == \"boolean\" should not occur because that\u001b[39;00m\n\u001b[0;32m   1242\u001b[0m     \u001b[38;5;66;03m#  should be caught by the is_bool_indexer check in __setitem__\u001b[39;00m\n\u001b[0;32m   1243\u001b[0m     key_type \u001b[38;5;241m=\u001b[39m lib\u001b[38;5;241m.\u001b[39minfer_dtype(key, skipna\u001b[38;5;241m=\u001b[39m\u001b[38;5;28;01mFalse\u001b[39;00m)\n",
      "File \u001b[1;32mc:\\ProgramData\\anaconda3\\Lib\\site-packages\\pandas\\core\\series.py:1255\u001b[0m, in \u001b[0;36mSeries._set_labels\u001b[1;34m(self, key, value)\u001b[0m\n\u001b[0;32m   1253\u001b[0m mask \u001b[38;5;241m=\u001b[39m indexer \u001b[38;5;241m==\u001b[39m \u001b[38;5;241m-\u001b[39m\u001b[38;5;241m1\u001b[39m\n\u001b[0;32m   1254\u001b[0m \u001b[38;5;28;01mif\u001b[39;00m mask\u001b[38;5;241m.\u001b[39many():\n\u001b[1;32m-> 1255\u001b[0m     \u001b[38;5;28;01mraise\u001b[39;00m \u001b[38;5;167;01mKeyError\u001b[39;00m(\u001b[38;5;124mf\u001b[39m\u001b[38;5;124m\"\u001b[39m\u001b[38;5;132;01m{\u001b[39;00mkey[mask]\u001b[38;5;132;01m}\u001b[39;00m\u001b[38;5;124m not in index\u001b[39m\u001b[38;5;124m\"\u001b[39m)\n\u001b[0;32m   1256\u001b[0m \u001b[38;5;28mself\u001b[39m\u001b[38;5;241m.\u001b[39m_set_values(indexer, value)\n",
      "\u001b[1;31mKeyError\u001b[0m: \"['City' 'State'] not in index\""
     ]
    }
   ],
   "source": [
    "hq = industry[\"hq\"].dropna()\n",
    "hq = hq.pd.DataFrame\n",
    "hq[[\"City\", \"State\"]] = hq.str.split(',', expand=True)\n",
    "print(hq)\n"
   ]
  },
  {
   "cell_type": "code",
   "execution_count": 50,
   "metadata": {},
   "outputs": [
    {
     "ename": "TypeError",
     "evalue": "Keyword arguments `items`, `like`, or `regex` are mutually exclusive",
     "output_type": "error",
     "traceback": [
      "\u001b[1;31m---------------------------------------------------------------------------\u001b[0m",
      "\u001b[1;31mTypeError\u001b[0m                                 Traceback (most recent call last)",
      "\u001b[1;32m~\\AppData\\Local\\Temp\\ipykernel_13792\\660003831.py\u001b[0m in \u001b[0;36m?\u001b[1;34m()\u001b[0m\n\u001b[0;32m      1\u001b[0m \u001b[0mindustry2\u001b[0m \u001b[1;33m=\u001b[0m \u001b[0mpd\u001b[0m\u001b[1;33m.\u001b[0m\u001b[0mread_csv\u001b[0m\u001b[1;33m(\u001b[0m\u001b[1;34m\"https://ies-python-midterm.s3.eu-central-1.amazonaws.com/companies/companies_subindustry.csv\"\u001b[0m\u001b[1;33m)\u001b[0m\u001b[1;33m\u001b[0m\u001b[1;33m\u001b[0m\u001b[0m\n\u001b[0;32m      2\u001b[0m \u001b[0mindustry2\u001b[0m\u001b[1;33m.\u001b[0m\u001b[0msample\u001b[0m\u001b[1;33m(\u001b[0m\u001b[1;36m5\u001b[0m\u001b[1;33m)\u001b[0m\u001b[1;33m.\u001b[0m\u001b[0mstyle\u001b[0m\u001b[1;33m\u001b[0m\u001b[1;33m\u001b[0m\u001b[0m\n\u001b[0;32m      3\u001b[0m \u001b[1;33m\u001b[0m\u001b[0m\n\u001b[0;32m      4\u001b[0m \u001b[0mindustryall\u001b[0m \u001b[1;33m=\u001b[0m \u001b[0mindustry\u001b[0m\u001b[1;33m.\u001b[0m\u001b[0mmerge\u001b[0m\u001b[1;33m(\u001b[0m\u001b[0mindustry2\u001b[0m\u001b[1;33m,\u001b[0m \u001b[0mhow\u001b[0m \u001b[1;33m=\u001b[0m \u001b[1;34m\"left\"\u001b[0m\u001b[1;33m,\u001b[0m \u001b[0mon\u001b[0m \u001b[1;33m=\u001b[0m \u001b[1;33m[\u001b[0m\u001b[1;34m\"Symbol\"\u001b[0m\u001b[1;33m]\u001b[0m\u001b[1;33m)\u001b[0m\u001b[1;33m\u001b[0m\u001b[1;33m\u001b[0m\u001b[0m\n\u001b[1;32m----> 5\u001b[1;33m \u001b[0mindustryall\u001b[0m\u001b[1;33m[\u001b[0m\u001b[1;34m\"Founded\"\u001b[0m\u001b[1;33m]\u001b[0m\u001b[1;33m.\u001b[0m\u001b[0mfilter\u001b[0m\u001b[1;33m(\u001b[0m\u001b[1;32mlambda\u001b[0m \u001b[0me\u001b[0m\u001b[1;33m:\u001b[0m \u001b[0misinstance\u001b[0m\u001b[1;33m(\u001b[0m\u001b[0me\u001b[0m\u001b[1;33m,\u001b[0m \u001b[0mint\u001b[0m\u001b[1;33m)\u001b[0m\u001b[1;33m,\u001b[0m \u001b[0mindustryall\u001b[0m\u001b[1;33m[\u001b[0m\u001b[1;34m\"Founded\"\u001b[0m\u001b[1;33m]\u001b[0m\u001b[1;33m)\u001b[0m\u001b[1;33m\u001b[0m\u001b[1;33m\u001b[0m\u001b[0m\n\u001b[0m\u001b[0;32m      6\u001b[0m \u001b[1;33m\u001b[0m\u001b[0m\n\u001b[0;32m      7\u001b[0m \u001b[1;33m\u001b[0m\u001b[0m\n",
      "\u001b[1;32mc:\\ProgramData\\anaconda3\\Lib\\site-packages\\pandas\\core\\generic.py\u001b[0m in \u001b[0;36m?\u001b[1;34m(self, items, like, regex, axis)\u001b[0m\n\u001b[0;32m   5521\u001b[0m         \u001b[0mrabbit\u001b[0m    \u001b[1;36m4\u001b[0m    \u001b[1;36m5\u001b[0m      \u001b[1;36m6\u001b[0m\u001b[1;33m\u001b[0m\u001b[1;33m\u001b[0m\u001b[0m\n\u001b[0;32m   5522\u001b[0m         \"\"\"\n\u001b[0;32m   5523\u001b[0m         \u001b[0mnkw\u001b[0m \u001b[1;33m=\u001b[0m \u001b[0mcommon\u001b[0m\u001b[1;33m.\u001b[0m\u001b[0mcount_not_none\u001b[0m\u001b[1;33m(\u001b[0m\u001b[0mitems\u001b[0m\u001b[1;33m,\u001b[0m \u001b[0mlike\u001b[0m\u001b[1;33m,\u001b[0m \u001b[0mregex\u001b[0m\u001b[1;33m)\u001b[0m\u001b[1;33m\u001b[0m\u001b[1;33m\u001b[0m\u001b[0m\n\u001b[0;32m   5524\u001b[0m         \u001b[1;32mif\u001b[0m \u001b[0mnkw\u001b[0m \u001b[1;33m>\u001b[0m \u001b[1;36m1\u001b[0m\u001b[1;33m:\u001b[0m\u001b[1;33m\u001b[0m\u001b[1;33m\u001b[0m\u001b[0m\n\u001b[1;32m-> 5525\u001b[1;33m             raise TypeError(\n\u001b[0m\u001b[0;32m   5526\u001b[0m                 \u001b[1;34m\"Keyword arguments `items`, `like`, or `regex` \"\u001b[0m\u001b[1;33m\u001b[0m\u001b[1;33m\u001b[0m\u001b[0m\n\u001b[0;32m   5527\u001b[0m                 \u001b[1;34m\"are mutually exclusive\"\u001b[0m\u001b[1;33m\u001b[0m\u001b[1;33m\u001b[0m\u001b[0m\n\u001b[0;32m   5528\u001b[0m             )\n",
      "\u001b[1;31mTypeError\u001b[0m: Keyword arguments `items`, `like`, or `regex` are mutually exclusive"
     ]
    }
   ],
   "source": [
    "industry2 = pd.read_csv(\"https://ies-python-midterm.s3.eu-central-1.amazonaws.com/companies/companies_subindustry.csv\")\n",
    "industry2.sample(5).style\n",
    "\n",
    "industryall = industry.merge(industry2, how = \"left\", on = [\"Symbol\"])\n",
    "industryall[\"Founded\"].filter(lambda e: isinstance(e, int), industryall[\"Founded\"])\n",
    "\n",
    "            "
   ]
  }
 ],
 "metadata": {
  "kernelspec": {
   "display_name": "base",
   "language": "python",
   "name": "python3"
  },
  "language_info": {
   "codemirror_mode": {
    "name": "ipython",
    "version": 3
   },
   "file_extension": ".py",
   "mimetype": "text/x-python",
   "name": "python",
   "nbconvert_exporter": "python",
   "pygments_lexer": "ipython3",
   "version": "3.11.5"
  }
 },
 "nbformat": 4,
 "nbformat_minor": 2
}
